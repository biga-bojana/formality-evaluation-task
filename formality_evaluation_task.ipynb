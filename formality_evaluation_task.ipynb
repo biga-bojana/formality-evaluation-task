{
  "nbformat": 4,
  "nbformat_minor": 0,
  "metadata": {
    "colab": {
      "provenance": [],
      "authorship_tag": "ABX9TyMDGu/CG/ThZnR9WfBKHA+V",
      "include_colab_link": true
    },
    "kernelspec": {
      "name": "python3",
      "display_name": "Python 3"
    },
    "language_info": {
      "name": "python"
    },
    "widgets": {
      "application/vnd.jupyter.widget-state+json": {
        "3f2b07e7f12a4a0a9357f640d53ec618": {
          "model_module": "@jupyter-widgets/controls",
          "model_name": "HBoxModel",
          "model_module_version": "1.5.0",
          "state": {
            "_dom_classes": [],
            "_model_module": "@jupyter-widgets/controls",
            "_model_module_version": "1.5.0",
            "_model_name": "HBoxModel",
            "_view_count": null,
            "_view_module": "@jupyter-widgets/controls",
            "_view_module_version": "1.5.0",
            "_view_name": "HBoxView",
            "box_style": "",
            "children": [
              "IPY_MODEL_4b612b438df8469181c5875c4bc73d06",
              "IPY_MODEL_ea4ed41d279a4c6aab54d4373d0db7e2",
              "IPY_MODEL_93923267738d43e4a8737e398dfcfd38"
            ],
            "layout": "IPY_MODEL_571718704e6e4bcc824bb972c5a63909"
          }
        },
        "4b612b438df8469181c5875c4bc73d06": {
          "model_module": "@jupyter-widgets/controls",
          "model_name": "HTMLModel",
          "model_module_version": "1.5.0",
          "state": {
            "_dom_classes": [],
            "_model_module": "@jupyter-widgets/controls",
            "_model_module_version": "1.5.0",
            "_model_name": "HTMLModel",
            "_view_count": null,
            "_view_module": "@jupyter-widgets/controls",
            "_view_module_version": "1.5.0",
            "_view_name": "HTMLView",
            "description": "",
            "description_tooltip": null,
            "layout": "IPY_MODEL_fd18a0a5b33f48aca2fcabe37a9e85a1",
            "placeholder": "​",
            "style": "IPY_MODEL_e4302200ad0442a6ad5c535fed328376",
            "value": "Loading checkpoint shards:   0%"
          }
        },
        "ea4ed41d279a4c6aab54d4373d0db7e2": {
          "model_module": "@jupyter-widgets/controls",
          "model_name": "FloatProgressModel",
          "model_module_version": "1.5.0",
          "state": {
            "_dom_classes": [],
            "_model_module": "@jupyter-widgets/controls",
            "_model_module_version": "1.5.0",
            "_model_name": "FloatProgressModel",
            "_view_count": null,
            "_view_module": "@jupyter-widgets/controls",
            "_view_module_version": "1.5.0",
            "_view_name": "ProgressView",
            "bar_style": "",
            "description": "",
            "description_tooltip": null,
            "layout": "IPY_MODEL_4b81bdba0d6242e0b716bcf67bf58973",
            "max": 2,
            "min": 0,
            "orientation": "horizontal",
            "style": "IPY_MODEL_76e29e853d674f6f853df69bc4675a1a",
            "value": 0
          }
        },
        "93923267738d43e4a8737e398dfcfd38": {
          "model_module": "@jupyter-widgets/controls",
          "model_name": "HTMLModel",
          "model_module_version": "1.5.0",
          "state": {
            "_dom_classes": [],
            "_model_module": "@jupyter-widgets/controls",
            "_model_module_version": "1.5.0",
            "_model_name": "HTMLModel",
            "_view_count": null,
            "_view_module": "@jupyter-widgets/controls",
            "_view_module_version": "1.5.0",
            "_view_name": "HTMLView",
            "description": "",
            "description_tooltip": null,
            "layout": "IPY_MODEL_8a830b04998a480582099eeec9a54f96",
            "placeholder": "​",
            "style": "IPY_MODEL_aaa2d78c54234e0ca9714bbe913b7063",
            "value": " 0/2 [00:00&lt;?, ?it/s]"
          }
        },
        "571718704e6e4bcc824bb972c5a63909": {
          "model_module": "@jupyter-widgets/base",
          "model_name": "LayoutModel",
          "model_module_version": "1.2.0",
          "state": {
            "_model_module": "@jupyter-widgets/base",
            "_model_module_version": "1.2.0",
            "_model_name": "LayoutModel",
            "_view_count": null,
            "_view_module": "@jupyter-widgets/base",
            "_view_module_version": "1.2.0",
            "_view_name": "LayoutView",
            "align_content": null,
            "align_items": null,
            "align_self": null,
            "border": null,
            "bottom": null,
            "display": null,
            "flex": null,
            "flex_flow": null,
            "grid_area": null,
            "grid_auto_columns": null,
            "grid_auto_flow": null,
            "grid_auto_rows": null,
            "grid_column": null,
            "grid_gap": null,
            "grid_row": null,
            "grid_template_areas": null,
            "grid_template_columns": null,
            "grid_template_rows": null,
            "height": null,
            "justify_content": null,
            "justify_items": null,
            "left": null,
            "margin": null,
            "max_height": null,
            "max_width": null,
            "min_height": null,
            "min_width": null,
            "object_fit": null,
            "object_position": null,
            "order": null,
            "overflow": null,
            "overflow_x": null,
            "overflow_y": null,
            "padding": null,
            "right": null,
            "top": null,
            "visibility": null,
            "width": null
          }
        },
        "fd18a0a5b33f48aca2fcabe37a9e85a1": {
          "model_module": "@jupyter-widgets/base",
          "model_name": "LayoutModel",
          "model_module_version": "1.2.0",
          "state": {
            "_model_module": "@jupyter-widgets/base",
            "_model_module_version": "1.2.0",
            "_model_name": "LayoutModel",
            "_view_count": null,
            "_view_module": "@jupyter-widgets/base",
            "_view_module_version": "1.2.0",
            "_view_name": "LayoutView",
            "align_content": null,
            "align_items": null,
            "align_self": null,
            "border": null,
            "bottom": null,
            "display": null,
            "flex": null,
            "flex_flow": null,
            "grid_area": null,
            "grid_auto_columns": null,
            "grid_auto_flow": null,
            "grid_auto_rows": null,
            "grid_column": null,
            "grid_gap": null,
            "grid_row": null,
            "grid_template_areas": null,
            "grid_template_columns": null,
            "grid_template_rows": null,
            "height": null,
            "justify_content": null,
            "justify_items": null,
            "left": null,
            "margin": null,
            "max_height": null,
            "max_width": null,
            "min_height": null,
            "min_width": null,
            "object_fit": null,
            "object_position": null,
            "order": null,
            "overflow": null,
            "overflow_x": null,
            "overflow_y": null,
            "padding": null,
            "right": null,
            "top": null,
            "visibility": null,
            "width": null
          }
        },
        "e4302200ad0442a6ad5c535fed328376": {
          "model_module": "@jupyter-widgets/controls",
          "model_name": "DescriptionStyleModel",
          "model_module_version": "1.5.0",
          "state": {
            "_model_module": "@jupyter-widgets/controls",
            "_model_module_version": "1.5.0",
            "_model_name": "DescriptionStyleModel",
            "_view_count": null,
            "_view_module": "@jupyter-widgets/base",
            "_view_module_version": "1.2.0",
            "_view_name": "StyleView",
            "description_width": ""
          }
        },
        "4b81bdba0d6242e0b716bcf67bf58973": {
          "model_module": "@jupyter-widgets/base",
          "model_name": "LayoutModel",
          "model_module_version": "1.2.0",
          "state": {
            "_model_module": "@jupyter-widgets/base",
            "_model_module_version": "1.2.0",
            "_model_name": "LayoutModel",
            "_view_count": null,
            "_view_module": "@jupyter-widgets/base",
            "_view_module_version": "1.2.0",
            "_view_name": "LayoutView",
            "align_content": null,
            "align_items": null,
            "align_self": null,
            "border": null,
            "bottom": null,
            "display": null,
            "flex": null,
            "flex_flow": null,
            "grid_area": null,
            "grid_auto_columns": null,
            "grid_auto_flow": null,
            "grid_auto_rows": null,
            "grid_column": null,
            "grid_gap": null,
            "grid_row": null,
            "grid_template_areas": null,
            "grid_template_columns": null,
            "grid_template_rows": null,
            "height": null,
            "justify_content": null,
            "justify_items": null,
            "left": null,
            "margin": null,
            "max_height": null,
            "max_width": null,
            "min_height": null,
            "min_width": null,
            "object_fit": null,
            "object_position": null,
            "order": null,
            "overflow": null,
            "overflow_x": null,
            "overflow_y": null,
            "padding": null,
            "right": null,
            "top": null,
            "visibility": null,
            "width": null
          }
        },
        "76e29e853d674f6f853df69bc4675a1a": {
          "model_module": "@jupyter-widgets/controls",
          "model_name": "ProgressStyleModel",
          "model_module_version": "1.5.0",
          "state": {
            "_model_module": "@jupyter-widgets/controls",
            "_model_module_version": "1.5.0",
            "_model_name": "ProgressStyleModel",
            "_view_count": null,
            "_view_module": "@jupyter-widgets/base",
            "_view_module_version": "1.2.0",
            "_view_name": "StyleView",
            "bar_color": null,
            "description_width": ""
          }
        },
        "8a830b04998a480582099eeec9a54f96": {
          "model_module": "@jupyter-widgets/base",
          "model_name": "LayoutModel",
          "model_module_version": "1.2.0",
          "state": {
            "_model_module": "@jupyter-widgets/base",
            "_model_module_version": "1.2.0",
            "_model_name": "LayoutModel",
            "_view_count": null,
            "_view_module": "@jupyter-widgets/base",
            "_view_module_version": "1.2.0",
            "_view_name": "LayoutView",
            "align_content": null,
            "align_items": null,
            "align_self": null,
            "border": null,
            "bottom": null,
            "display": null,
            "flex": null,
            "flex_flow": null,
            "grid_area": null,
            "grid_auto_columns": null,
            "grid_auto_flow": null,
            "grid_auto_rows": null,
            "grid_column": null,
            "grid_gap": null,
            "grid_row": null,
            "grid_template_areas": null,
            "grid_template_columns": null,
            "grid_template_rows": null,
            "height": null,
            "justify_content": null,
            "justify_items": null,
            "left": null,
            "margin": null,
            "max_height": null,
            "max_width": null,
            "min_height": null,
            "min_width": null,
            "object_fit": null,
            "object_position": null,
            "order": null,
            "overflow": null,
            "overflow_x": null,
            "overflow_y": null,
            "padding": null,
            "right": null,
            "top": null,
            "visibility": null,
            "width": null
          }
        },
        "aaa2d78c54234e0ca9714bbe913b7063": {
          "model_module": "@jupyter-widgets/controls",
          "model_name": "DescriptionStyleModel",
          "model_module_version": "1.5.0",
          "state": {
            "_model_module": "@jupyter-widgets/controls",
            "_model_module_version": "1.5.0",
            "_model_name": "DescriptionStyleModel",
            "_view_count": null,
            "_view_module": "@jupyter-widgets/base",
            "_view_module_version": "1.2.0",
            "_view_name": "StyleView",
            "description_width": ""
          }
        }
      }
    }
  },
  "cells": [
    {
      "cell_type": "markdown",
      "metadata": {
        "id": "view-in-github",
        "colab_type": "text"
      },
      "source": [
        "<a href=\"https://colab.research.google.com/github/biga-bojana/formality-evaluation-task/blob/main/formality_evaluation_task.ipynb\" target=\"_parent\"><img src=\"https://colab.research.google.com/assets/colab-badge.svg\" alt=\"Open In Colab\"/></a>"
      ]
    },
    {
      "cell_type": "code",
      "execution_count": 5,
      "metadata": {
        "id": "sJYQZveFfZZF"
      },
      "outputs": [],
      "source": [
        "!pip install -q datasets pandas"
      ]
    },
    {
      "cell_type": "code",
      "source": [
        "from datasets import load_dataset\n",
        "import pandas as pd\n",
        "import random\n",
        "\n",
        "# Load Informal Data\n",
        "\n",
        "# DailyDialog\n",
        "daily_dialog = load_dataset(\"daily_dialog\", split=\"train\", trust_remote_code=True)\n",
        "daily_texts = []\n",
        "for dialog in daily_dialog[\"dialog\"]:\n",
        "    daily_texts.extend(dialog)\n",
        "random.shuffle(daily_texts)\n",
        "informal_dialogs = daily_texts[:40]\n",
        "\n",
        "# TweetEval: social media language\n",
        "tweet_eval = load_dataset(\"tweet_eval\", \"emotion\", split=\"train\", trust_remote_code=True)\n",
        "tweet_texts = tweet_eval[\"text\"]\n",
        "random.shuffle(tweet_texts)\n",
        "informal_tweets = tweet_texts[:40]\n",
        "\n",
        "# Combine both\n",
        "informal_texts = informal_dialogs + informal_tweets\n",
        "df_informal = pd.DataFrame({\n",
        "    \"text\": informal_texts,\n",
        "    \"label\": [\"informal\"] * len(informal_texts)\n",
        "})"
      ],
      "metadata": {
        "colab": {
          "base_uri": "https://localhost:8080/"
        },
        "id": "3yGCD9_th4VL",
        "outputId": "9056c956-62f0-4a25-8c30-b4ba58181fcb"
      },
      "execution_count": 6,
      "outputs": [
        {
          "output_type": "stream",
          "name": "stderr",
          "text": [
            "/usr/local/lib/python3.11/dist-packages/huggingface_hub/utils/_auth.py:94: UserWarning: \n",
            "The secret `HF_TOKEN` does not exist in your Colab secrets.\n",
            "To authenticate with the Hugging Face Hub, create a token in your settings tab (https://huggingface.co/settings/tokens), set it as secret in your Google Colab and restart your session.\n",
            "You will be able to reuse this secret in all of your notebooks.\n",
            "Please note that authentication is recommended but still optional to access public models or datasets.\n",
            "  warnings.warn(\n"
          ]
        }
      ]
    },
    {
      "cell_type": "code",
      "source": [
        "# Load Enron from direct .parquet link\n",
        "enron_url = \"https://huggingface.co/datasets/amanneo/enron-mail-corpus-mini/resolve/main/data/train-00000-of-00001-014f331c4b4820b4.parquet\"\n",
        "df_enron = pd.read_parquet(enron_url)\n",
        "\n",
        "# Take first 80 for formal class\n",
        "df_formal = pd.DataFrame({\n",
        "    \"text\": df_enron[\"text\"].tolist()[:80],\n",
        "    \"label\": [\"formal\"] * 80\n",
        "})\n"
      ],
      "metadata": {
        "id": "eSNGhV-IruKj"
      },
      "execution_count": 7,
      "outputs": []
    },
    {
      "cell_type": "code",
      "source": [
        "# Combine and shuffle\n",
        "df_combined = pd.concat([df_formal, df_informal], ignore_index=True)\n",
        "df_combined = df_combined.sample(frac=1).reset_index(drop=True)\n",
        "\n",
        "# Preview the dataset\n",
        "df_combined.head()\n"
      ],
      "metadata": {
        "colab": {
          "base_uri": "https://localhost:8080/",
          "height": 206
        },
        "id": "3TcBnwlAr4in",
        "outputId": "caeafa2c-653a-4731-fa88-e9f386c0901f"
      },
      "execution_count": 8,
      "outputs": [
        {
          "output_type": "execute_result",
          "data": {
            "text/plain": [
              "                                                text     label\n",
              "0  During the days of my absence from office, I c...    formal\n",
              "1  All hell is breaking loose in Charlotte. #Char...  informal\n",
              "2       is it bad that kurt is literally me..? #glee  informal\n",
              "3   As a graduate , it may be more important to d...  informal\n",
              "4  If you have time, please could you listen to m...    formal"
            ],
            "text/html": [
              "\n",
              "  <div id=\"df-ebc7c296-e4dd-47e5-8f52-1971ec74d2ef\" class=\"colab-df-container\">\n",
              "    <div>\n",
              "<style scoped>\n",
              "    .dataframe tbody tr th:only-of-type {\n",
              "        vertical-align: middle;\n",
              "    }\n",
              "\n",
              "    .dataframe tbody tr th {\n",
              "        vertical-align: top;\n",
              "    }\n",
              "\n",
              "    .dataframe thead th {\n",
              "        text-align: right;\n",
              "    }\n",
              "</style>\n",
              "<table border=\"1\" class=\"dataframe\">\n",
              "  <thead>\n",
              "    <tr style=\"text-align: right;\">\n",
              "      <th></th>\n",
              "      <th>text</th>\n",
              "      <th>label</th>\n",
              "    </tr>\n",
              "  </thead>\n",
              "  <tbody>\n",
              "    <tr>\n",
              "      <th>0</th>\n",
              "      <td>During the days of my absence from office, I c...</td>\n",
              "      <td>formal</td>\n",
              "    </tr>\n",
              "    <tr>\n",
              "      <th>1</th>\n",
              "      <td>All hell is breaking loose in Charlotte. #Char...</td>\n",
              "      <td>informal</td>\n",
              "    </tr>\n",
              "    <tr>\n",
              "      <th>2</th>\n",
              "      <td>is it bad that kurt is literally me..? #glee</td>\n",
              "      <td>informal</td>\n",
              "    </tr>\n",
              "    <tr>\n",
              "      <th>3</th>\n",
              "      <td>As a graduate , it may be more important to d...</td>\n",
              "      <td>informal</td>\n",
              "    </tr>\n",
              "    <tr>\n",
              "      <th>4</th>\n",
              "      <td>If you have time, please could you listen to m...</td>\n",
              "      <td>formal</td>\n",
              "    </tr>\n",
              "  </tbody>\n",
              "</table>\n",
              "</div>\n",
              "    <div class=\"colab-df-buttons\">\n",
              "\n",
              "  <div class=\"colab-df-container\">\n",
              "    <button class=\"colab-df-convert\" onclick=\"convertToInteractive('df-ebc7c296-e4dd-47e5-8f52-1971ec74d2ef')\"\n",
              "            title=\"Convert this dataframe to an interactive table.\"\n",
              "            style=\"display:none;\">\n",
              "\n",
              "  <svg xmlns=\"http://www.w3.org/2000/svg\" height=\"24px\" viewBox=\"0 -960 960 960\">\n",
              "    <path d=\"M120-120v-720h720v720H120Zm60-500h600v-160H180v160Zm220 220h160v-160H400v160Zm0 220h160v-160H400v160ZM180-400h160v-160H180v160Zm440 0h160v-160H620v160ZM180-180h160v-160H180v160Zm440 0h160v-160H620v160Z\"/>\n",
              "  </svg>\n",
              "    </button>\n",
              "\n",
              "  <style>\n",
              "    .colab-df-container {\n",
              "      display:flex;\n",
              "      gap: 12px;\n",
              "    }\n",
              "\n",
              "    .colab-df-convert {\n",
              "      background-color: #E8F0FE;\n",
              "      border: none;\n",
              "      border-radius: 50%;\n",
              "      cursor: pointer;\n",
              "      display: none;\n",
              "      fill: #1967D2;\n",
              "      height: 32px;\n",
              "      padding: 0 0 0 0;\n",
              "      width: 32px;\n",
              "    }\n",
              "\n",
              "    .colab-df-convert:hover {\n",
              "      background-color: #E2EBFA;\n",
              "      box-shadow: 0px 1px 2px rgba(60, 64, 67, 0.3), 0px 1px 3px 1px rgba(60, 64, 67, 0.15);\n",
              "      fill: #174EA6;\n",
              "    }\n",
              "\n",
              "    .colab-df-buttons div {\n",
              "      margin-bottom: 4px;\n",
              "    }\n",
              "\n",
              "    [theme=dark] .colab-df-convert {\n",
              "      background-color: #3B4455;\n",
              "      fill: #D2E3FC;\n",
              "    }\n",
              "\n",
              "    [theme=dark] .colab-df-convert:hover {\n",
              "      background-color: #434B5C;\n",
              "      box-shadow: 0px 1px 3px 1px rgba(0, 0, 0, 0.15);\n",
              "      filter: drop-shadow(0px 1px 2px rgba(0, 0, 0, 0.3));\n",
              "      fill: #FFFFFF;\n",
              "    }\n",
              "  </style>\n",
              "\n",
              "    <script>\n",
              "      const buttonEl =\n",
              "        document.querySelector('#df-ebc7c296-e4dd-47e5-8f52-1971ec74d2ef button.colab-df-convert');\n",
              "      buttonEl.style.display =\n",
              "        google.colab.kernel.accessAllowed ? 'block' : 'none';\n",
              "\n",
              "      async function convertToInteractive(key) {\n",
              "        const element = document.querySelector('#df-ebc7c296-e4dd-47e5-8f52-1971ec74d2ef');\n",
              "        const dataTable =\n",
              "          await google.colab.kernel.invokeFunction('convertToInteractive',\n",
              "                                                    [key], {});\n",
              "        if (!dataTable) return;\n",
              "\n",
              "        const docLinkHtml = 'Like what you see? Visit the ' +\n",
              "          '<a target=\"_blank\" href=https://colab.research.google.com/notebooks/data_table.ipynb>data table notebook</a>'\n",
              "          + ' to learn more about interactive tables.';\n",
              "        element.innerHTML = '';\n",
              "        dataTable['output_type'] = 'display_data';\n",
              "        await google.colab.output.renderOutput(dataTable, element);\n",
              "        const docLink = document.createElement('div');\n",
              "        docLink.innerHTML = docLinkHtml;\n",
              "        element.appendChild(docLink);\n",
              "      }\n",
              "    </script>\n",
              "  </div>\n",
              "\n",
              "\n",
              "<div id=\"df-53bbf9c4-60ed-468e-a1f3-351738b8fb8c\">\n",
              "  <button class=\"colab-df-quickchart\" onclick=\"quickchart('df-53bbf9c4-60ed-468e-a1f3-351738b8fb8c')\"\n",
              "            title=\"Suggest charts\"\n",
              "            style=\"display:none;\">\n",
              "\n",
              "<svg xmlns=\"http://www.w3.org/2000/svg\" height=\"24px\"viewBox=\"0 0 24 24\"\n",
              "     width=\"24px\">\n",
              "    <g>\n",
              "        <path d=\"M19 3H5c-1.1 0-2 .9-2 2v14c0 1.1.9 2 2 2h14c1.1 0 2-.9 2-2V5c0-1.1-.9-2-2-2zM9 17H7v-7h2v7zm4 0h-2V7h2v10zm4 0h-2v-4h2v4z\"/>\n",
              "    </g>\n",
              "</svg>\n",
              "  </button>\n",
              "\n",
              "<style>\n",
              "  .colab-df-quickchart {\n",
              "      --bg-color: #E8F0FE;\n",
              "      --fill-color: #1967D2;\n",
              "      --hover-bg-color: #E2EBFA;\n",
              "      --hover-fill-color: #174EA6;\n",
              "      --disabled-fill-color: #AAA;\n",
              "      --disabled-bg-color: #DDD;\n",
              "  }\n",
              "\n",
              "  [theme=dark] .colab-df-quickchart {\n",
              "      --bg-color: #3B4455;\n",
              "      --fill-color: #D2E3FC;\n",
              "      --hover-bg-color: #434B5C;\n",
              "      --hover-fill-color: #FFFFFF;\n",
              "      --disabled-bg-color: #3B4455;\n",
              "      --disabled-fill-color: #666;\n",
              "  }\n",
              "\n",
              "  .colab-df-quickchart {\n",
              "    background-color: var(--bg-color);\n",
              "    border: none;\n",
              "    border-radius: 50%;\n",
              "    cursor: pointer;\n",
              "    display: none;\n",
              "    fill: var(--fill-color);\n",
              "    height: 32px;\n",
              "    padding: 0;\n",
              "    width: 32px;\n",
              "  }\n",
              "\n",
              "  .colab-df-quickchart:hover {\n",
              "    background-color: var(--hover-bg-color);\n",
              "    box-shadow: 0 1px 2px rgba(60, 64, 67, 0.3), 0 1px 3px 1px rgba(60, 64, 67, 0.15);\n",
              "    fill: var(--button-hover-fill-color);\n",
              "  }\n",
              "\n",
              "  .colab-df-quickchart-complete:disabled,\n",
              "  .colab-df-quickchart-complete:disabled:hover {\n",
              "    background-color: var(--disabled-bg-color);\n",
              "    fill: var(--disabled-fill-color);\n",
              "    box-shadow: none;\n",
              "  }\n",
              "\n",
              "  .colab-df-spinner {\n",
              "    border: 2px solid var(--fill-color);\n",
              "    border-color: transparent;\n",
              "    border-bottom-color: var(--fill-color);\n",
              "    animation:\n",
              "      spin 1s steps(1) infinite;\n",
              "  }\n",
              "\n",
              "  @keyframes spin {\n",
              "    0% {\n",
              "      border-color: transparent;\n",
              "      border-bottom-color: var(--fill-color);\n",
              "      border-left-color: var(--fill-color);\n",
              "    }\n",
              "    20% {\n",
              "      border-color: transparent;\n",
              "      border-left-color: var(--fill-color);\n",
              "      border-top-color: var(--fill-color);\n",
              "    }\n",
              "    30% {\n",
              "      border-color: transparent;\n",
              "      border-left-color: var(--fill-color);\n",
              "      border-top-color: var(--fill-color);\n",
              "      border-right-color: var(--fill-color);\n",
              "    }\n",
              "    40% {\n",
              "      border-color: transparent;\n",
              "      border-right-color: var(--fill-color);\n",
              "      border-top-color: var(--fill-color);\n",
              "    }\n",
              "    60% {\n",
              "      border-color: transparent;\n",
              "      border-right-color: var(--fill-color);\n",
              "    }\n",
              "    80% {\n",
              "      border-color: transparent;\n",
              "      border-right-color: var(--fill-color);\n",
              "      border-bottom-color: var(--fill-color);\n",
              "    }\n",
              "    90% {\n",
              "      border-color: transparent;\n",
              "      border-bottom-color: var(--fill-color);\n",
              "    }\n",
              "  }\n",
              "</style>\n",
              "\n",
              "  <script>\n",
              "    async function quickchart(key) {\n",
              "      const quickchartButtonEl =\n",
              "        document.querySelector('#' + key + ' button');\n",
              "      quickchartButtonEl.disabled = true;  // To prevent multiple clicks.\n",
              "      quickchartButtonEl.classList.add('colab-df-spinner');\n",
              "      try {\n",
              "        const charts = await google.colab.kernel.invokeFunction(\n",
              "            'suggestCharts', [key], {});\n",
              "      } catch (error) {\n",
              "        console.error('Error during call to suggestCharts:', error);\n",
              "      }\n",
              "      quickchartButtonEl.classList.remove('colab-df-spinner');\n",
              "      quickchartButtonEl.classList.add('colab-df-quickchart-complete');\n",
              "    }\n",
              "    (() => {\n",
              "      let quickchartButtonEl =\n",
              "        document.querySelector('#df-53bbf9c4-60ed-468e-a1f3-351738b8fb8c button');\n",
              "      quickchartButtonEl.style.display =\n",
              "        google.colab.kernel.accessAllowed ? 'block' : 'none';\n",
              "    })();\n",
              "  </script>\n",
              "</div>\n",
              "    </div>\n",
              "  </div>\n"
            ],
            "application/vnd.google.colaboratory.intrinsic+json": {
              "type": "dataframe",
              "variable_name": "df_combined",
              "summary": "{\n  \"name\": \"df_combined\",\n  \"rows\": 160,\n  \"fields\": [\n    {\n      \"column\": \"text\",\n      \"properties\": {\n        \"dtype\": \"string\",\n        \"num_unique_values\": 160,\n        \"samples\": [\n          \"@user We should be ignoring these rioters like the current administration ignores #terrorism. This will obviously make it stop.\",\n          \"Congratulations on your new place! Can\\u2019t wait to see you make it your own.\",\n          \" But that makes thirteen people ! We can't have thirteen people for dinner on Friday ! \"\n        ],\n        \"semantic_type\": \"\",\n        \"description\": \"\"\n      }\n    },\n    {\n      \"column\": \"label\",\n      \"properties\": {\n        \"dtype\": \"category\",\n        \"num_unique_values\": 2,\n        \"samples\": [\n          \"informal\",\n          \"formal\"\n        ],\n        \"semantic_type\": \"\",\n        \"description\": \"\"\n      }\n    }\n  ]\n}"
            }
          },
          "metadata": {},
          "execution_count": 8
        }
      ]
    },
    {
      "cell_type": "code",
      "source": [
        "from transformers import pipeline\n",
        "from sklearn.metrics import accuracy_score, classification_report, confusion_matrix\n",
        "import seaborn as sns\n",
        "import matplotlib.pyplot as plt\n",
        "\n",
        "# Define evaluation function\n",
        "def evaluate_model(model_name_or_path, texts, labels, label_map=None, title_suffix=\"\"):\n",
        "    clf = pipeline(\"text-classification\", model=model_name_or_path)\n",
        "\n",
        "    predictions = []\n",
        "    for text in texts:\n",
        "        try:\n",
        "            output = clf(text)[0]\n",
        "            label = output['label'].lower()\n",
        "            if label_map:\n",
        "                label = label_map.get(label, label)\n",
        "            predictions.append(label)\n",
        "        except Exception as e:\n",
        "            print(f\"Failed on input: {text[:30]}... Error: {e}\")\n",
        "            predictions.append(\"error\")\n",
        "\n",
        "    print(f\"\\nEvaluation for model: {model_name_or_path}\")\n",
        "    print(\"Accuracy:\", accuracy_score(labels, predictions))\n",
        "    print(\"\\nClassification report:\\n\", classification_report(labels, predictions))\n",
        "\n",
        "    cm = confusion_matrix(labels, predictions, labels=sorted(set(labels)))\n",
        "    sns.heatmap(cm, annot=True, fmt=\"d\", cmap=\"Blues\",\n",
        "                xticklabels=sorted(set(labels)), yticklabels=sorted(set(labels)))\n",
        "    plt.xlabel(\"Predicted\")\n",
        "    plt.ylabel(\"True\")\n",
        "    plt.title(f\"Confusion matrix: {title_suffix or model_name_or_path}\")\n",
        "    plt.show()\n",
        "\n",
        "    return predictions\n"
      ],
      "metadata": {
        "id": "1BgMFzUdsfKn"
      },
      "execution_count": 9,
      "outputs": []
    },
    {
      "cell_type": "code",
      "source": [
        "texts = df_combined[\"text\"].tolist()\n",
        "labels = df_combined[\"label\"].tolist()\n",
        "\n"
      ],
      "metadata": {
        "id": "DTlzSgKd8zDV"
      },
      "execution_count": 17,
      "outputs": []
    },
    {
      "cell_type": "code",
      "source": [
        "!pip install transformers"
      ],
      "metadata": {
        "colab": {
          "base_uri": "https://localhost:8080/"
        },
        "id": "fvQcNKgjHDnD",
        "outputId": "58b973d7-b2ea-48fd-aee9-bed97d1e250f"
      },
      "execution_count": 11,
      "outputs": [
        {
          "output_type": "stream",
          "name": "stdout",
          "text": [
            "Requirement already satisfied: transformers in /usr/local/lib/python3.11/dist-packages (4.50.3)\n",
            "Requirement already satisfied: filelock in /usr/local/lib/python3.11/dist-packages (from transformers) (3.18.0)\n",
            "Requirement already satisfied: huggingface-hub<1.0,>=0.26.0 in /usr/local/lib/python3.11/dist-packages (from transformers) (0.30.1)\n",
            "Requirement already satisfied: numpy>=1.17 in /usr/local/lib/python3.11/dist-packages (from transformers) (2.0.2)\n",
            "Requirement already satisfied: packaging>=20.0 in /usr/local/lib/python3.11/dist-packages (from transformers) (24.2)\n",
            "Requirement already satisfied: pyyaml>=5.1 in /usr/local/lib/python3.11/dist-packages (from transformers) (6.0.2)\n",
            "Requirement already satisfied: regex!=2019.12.17 in /usr/local/lib/python3.11/dist-packages (from transformers) (2024.11.6)\n",
            "Requirement already satisfied: requests in /usr/local/lib/python3.11/dist-packages (from transformers) (2.32.3)\n",
            "Requirement already satisfied: tokenizers<0.22,>=0.21 in /usr/local/lib/python3.11/dist-packages (from transformers) (0.21.1)\n",
            "Requirement already satisfied: safetensors>=0.4.3 in /usr/local/lib/python3.11/dist-packages (from transformers) (0.5.3)\n",
            "Requirement already satisfied: tqdm>=4.27 in /usr/local/lib/python3.11/dist-packages (from transformers) (4.67.1)\n",
            "Requirement already satisfied: fsspec>=2023.5.0 in /usr/local/lib/python3.11/dist-packages (from huggingface-hub<1.0,>=0.26.0->transformers) (2024.12.0)\n",
            "Requirement already satisfied: typing-extensions>=3.7.4.3 in /usr/local/lib/python3.11/dist-packages (from huggingface-hub<1.0,>=0.26.0->transformers) (4.13.1)\n",
            "Requirement already satisfied: charset-normalizer<4,>=2 in /usr/local/lib/python3.11/dist-packages (from requests->transformers) (3.4.1)\n",
            "Requirement already satisfied: idna<4,>=2.5 in /usr/local/lib/python3.11/dist-packages (from requests->transformers) (3.10)\n",
            "Requirement already satisfied: urllib3<3,>=1.21.1 in /usr/local/lib/python3.11/dist-packages (from requests->transformers) (2.3.0)\n",
            "Requirement already satisfied: certifi>=2017.4.17 in /usr/local/lib/python3.11/dist-packages (from requests->transformers) (2025.1.31)\n"
          ]
        }
      ]
    },
    {
      "cell_type": "code",
      "source": [
        "from transformers import pipeline\n",
        "from sklearn.metrics import accuracy_score, classification_report, confusion_matrix\n",
        "import seaborn as sns\n",
        "import matplotlib.pyplot as plt\n",
        "\n",
        "def evaluate_model_with_neutral_remap(model_name_or_path, texts, labels, title_suffix=\"\"):\n",
        "    clf = pipeline(\"text-classification\", model=model_name_or_path)\n",
        "\n",
        "    raw_preds = []\n",
        "    for text in texts:\n",
        "        try:\n",
        "            output = clf(text)[0]\n",
        "            label = output['label'].lower()\n",
        "            if label == \"neutral\":\n",
        "                label = \"formal\"  # remap neutral → formal\n",
        "            raw_preds.append(label)\n",
        "        except Exception as e:\n",
        "            print(f\"Failed on input: {text[:30]}... Error: {e}\")\n",
        "            raw_preds.append(\"error\")\n",
        "\n",
        "    print(f\"\\nEvaluation for model: {model_name_or_path} (Neutral → Formal)\")\n",
        "    print(\"Accuracy:\", accuracy_score(labels, raw_preds))\n",
        "    print(\"\\n Classification report:\\n\", classification_report(labels, raw_preds))\n",
        "\n",
        "    cm = confusion_matrix(labels, raw_preds, labels=sorted(set(labels)))\n",
        "    sns.heatmap(cm, annot=True, fmt=\"d\", cmap=\"Blues\",\n",
        "                xticklabels=sorted(set(labels)), yticklabels=sorted(set(labels)))\n",
        "    plt.xlabel(\"Predicted\")\n",
        "    plt.ylabel(\"True\")\n",
        "    plt.title(f\"Confusion matrix: {title_suffix or model_name_or_path} (Neutral → Formal)\")\n",
        "    plt.show()\n",
        "\n",
        "    return raw_preds\n"
      ],
      "metadata": {
        "id": "cUmFujeJHKz3"
      },
      "execution_count": 12,
      "outputs": []
    },
    {
      "cell_type": "code",
      "source": [
        "preds_deberta = evaluate_model_with_neutral_remap(\n",
        "    \"LenDigLearn/formality-classifier-mdeberta-v3-base\",\n",
        "    df_combined[\"text\"].tolist(),\n",
        "    df_combined[\"label\"].tolist()\n",
        ")\n"
      ],
      "metadata": {
        "colab": {
          "base_uri": "https://localhost:8080/",
          "height": 732
        },
        "id": "W8Mqt44hKAJ4",
        "outputId": "20de7286-0ad6-43ca-dc46-0a964e8b83c2"
      },
      "execution_count": 13,
      "outputs": [
        {
          "output_type": "stream",
          "name": "stderr",
          "text": [
            "Device set to use cpu\n"
          ]
        },
        {
          "output_type": "stream",
          "name": "stdout",
          "text": [
            "\n",
            "Evaluation for model: LenDigLearn/formality-classifier-mdeberta-v3-base (Neutral → Formal)\n",
            "Accuracy: 0.8875\n",
            "\n",
            " Classification report:\n",
            "               precision    recall  f1-score   support\n",
            "\n",
            "      formal       0.82      1.00      0.90        80\n",
            "    informal       1.00      0.78      0.87        80\n",
            "\n",
            "    accuracy                           0.89       160\n",
            "   macro avg       0.91      0.89      0.89       160\n",
            "weighted avg       0.91      0.89      0.89       160\n",
            "\n"
          ]
        },
        {
          "output_type": "display_data",
          "data": {
            "text/plain": [
              "<Figure size 640x480 with 2 Axes>"
            ],
            "image/png": "[encoded data removed]"
          },
          "metadata": {}
        }
      ]
    },
    {
      "cell_type": "code",
      "source": [
        "from transformers import pipeline\n",
        "\n",
        "# Use open-source Falcon 7B Instruct (no authentication needed)\n",
        "llm_judge = pipeline(\n",
        "    \"text-generation\",\n",
        "    model=\"tiiuae/falcon-7b-instruct\",\n",
        "    max_new_tokens=20,\n",
        "    do_sample=False\n",
        ")\n",
        "\n",
        "# Simple LLM-as-a-Judge (returns only Correct/Incorrect)\n",
        "def llm_as_judge_trimmed(sentences, model_preds):\n",
        "    results = []\n",
        "    for sent, pred in zip(sentences, model_preds):\n",
        "        prompt = f\"\"\"You are a formality expert.\n",
        "\n",
        "Sentence: \"{sent}\"\n",
        "Model prediction: \"{pred}\"\n",
        "\n",
        "Is this label correct? Reply only with \"Correct\" or \"Incorrect\".\n",
        "Answer:\"\"\"\n",
        "        try:\n",
        "            output = llm_judge(prompt)[0][\"generated_text\"]\n",
        "            # Extract only the first word to keep it trimmed\n",
        "            judgment = output.split(\"Answer:\")[-1].strip().split()[0]\n",
        "        except Exception as e:\n",
        "            judgment = \"Error\"\n",
        "            print(f\"Failed on: {sent[:30]}...\")\n",
        "\n",
        "        results.append({\n",
        "            \"sentence\": sent,\n",
        "            \"model_label\": pred,\n",
        "            \"llm_judgment\": judgment\n",
        "        })\n",
        "    return results\n"
      ],
      "metadata": {
        "colab": {
          "base_uri": "https://localhost:8080/",
          "height": 49,
          "referenced_widgets": [
            "3f2b07e7f12a4a0a9357f640d53ec618",
            "4b612b438df8469181c5875c4bc73d06",
            "ea4ed41d279a4c6aab54d4373d0db7e2",
            "93923267738d43e4a8737e398dfcfd38",
            "571718704e6e4bcc824bb972c5a63909",
            "fd18a0a5b33f48aca2fcabe37a9e85a1",
            "e4302200ad0442a6ad5c535fed328376",
            "4b81bdba0d6242e0b716bcf67bf58973",
            "76e29e853d674f6f853df69bc4675a1a",
            "8a830b04998a480582099eeec9a54f96",
            "aaa2d78c54234e0ca9714bbe913b7063"
          ]
        },
        "id": "61UtPcpk8N2R",
        "outputId": "e9a678ab-4e6b-4ea6-92ab-d2e3062f9a50"
      },
      "execution_count": null,
      "outputs": [
        {
          "output_type": "display_data",
          "data": {
            "text/plain": [
              "Loading checkpoint shards:   0%|          | 0/2 [00:00<?, ?it/s]"
            ],
            "application/vnd.jupyter.widget-view+json": {
              "version_major": 2,
              "version_minor": 0,
              "model_id": "3f2b07e7f12a4a0a9357f640d53ec618"
            }
          },
          "metadata": {}
        }
      ]
    },
    {
      "cell_type": "code",
      "source": [
        "judged_trimmed = llm_as_judge_trimmed(texts[:5], preds_deberta[:5])\n",
        "for item in judged_trimmed:\n",
        "    print(item)\n"
      ],
      "metadata": {
        "colab": {
          "base_uri": "https://localhost:8080/",
          "height": 176
        },
        "id": "6umSqbnR8i_l",
        "outputId": "c64cb489-f5b1-4d99-dc3a-06301158b306"
      },
      "execution_count": 1,
      "outputs": [
        {
          "output_type": "error",
          "ename": "NameError",
          "evalue": "name 'llm_as_judge_trimmed' is not defined",
          "traceback": [
            "\u001b[0;31m---------------------------------------------------------------------------\u001b[0m",
            "\u001b[0;31mNameError\u001b[0m                                 Traceback (most recent call last)",
            "\u001b[0;32m<ipython-input-1-db994210a7ad>\u001b[0m in \u001b[0;36m<cell line: 0>\u001b[0;34m()\u001b[0m\n\u001b[0;32m----> 1\u001b[0;31m \u001b[0mjudged_trimmed\u001b[0m \u001b[0;34m=\u001b[0m \u001b[0mllm_as_judge_trimmed\u001b[0m\u001b[0;34m(\u001b[0m\u001b[0mtexts\u001b[0m\u001b[0;34m[\u001b[0m\u001b[0;34m:\u001b[0m\u001b[0;36m5\u001b[0m\u001b[0;34m]\u001b[0m\u001b[0;34m,\u001b[0m \u001b[0mpreds_deberta\u001b[0m\u001b[0;34m[\u001b[0m\u001b[0;34m:\u001b[0m\u001b[0;36m5\u001b[0m\u001b[0;34m]\u001b[0m\u001b[0;34m)\u001b[0m\u001b[0;34m\u001b[0m\u001b[0;34m\u001b[0m\u001b[0m\n\u001b[0m\u001b[1;32m      2\u001b[0m \u001b[0;32mfor\u001b[0m \u001b[0mitem\u001b[0m \u001b[0;32min\u001b[0m \u001b[0mjudged_trimmed\u001b[0m\u001b[0;34m:\u001b[0m\u001b[0;34m\u001b[0m\u001b[0;34m\u001b[0m\u001b[0m\n\u001b[1;32m      3\u001b[0m     \u001b[0mprint\u001b[0m\u001b[0;34m(\u001b[0m\u001b[0mitem\u001b[0m\u001b[0;34m)\u001b[0m\u001b[0;34m\u001b[0m\u001b[0;34m\u001b[0m\u001b[0m\n",
            "\u001b[0;31mNameError\u001b[0m: name 'llm_as_judge_trimmed' is not defined"
          ]
        }
      ]
    },
    {
      "cell_type": "code",
      "source": [
        "from transformers import pipeline\n",
        "from sklearn.metrics import accuracy_score, classification_report, confusion_matrix\n",
        "import seaborn as sns\n",
        "import matplotlib.pyplot as plt\n",
        "\n",
        "def evaluate_zero_shot_model(model_name, texts, labels, candidate_labels=[\"formal\", \"informal\"], title_suffix=\"\"):\n",
        "    clf = pipeline(\"zero-shot-classification\", model=model_name)\n",
        "\n",
        "    predictions = []\n",
        "    for text in texts:\n",
        "        try:\n",
        "            result = clf(text, candidate_labels=candidate_labels)\n",
        "            predicted_label = result[\"labels\"][0].lower()\n",
        "            predictions.append(predicted_label)\n",
        "        except Exception as e:\n",
        "            print(f\"Failed on: {text[:30]}... Error: {e}\")\n",
        "            predictions.append(\"error\")\n",
        "\n",
        "    print(f\"\\n Zero-shot evaluation: {model_name}\")\n",
        "    print(\"Accuracy:\", accuracy_score(labels, predictions))\n",
        "    print(\"\\nClassification Report:\\n\", classification_report(labels, predictions))\n",
        "\n",
        "    cm = confusion_matrix(labels, predictions, labels=sorted(set(labels)))\n",
        "    sns.heatmap(cm, annot=True, fmt=\"d\", cmap=\"Greens\",\n",
        "                xticklabels=sorted(set(labels)), yticklabels=sorted(set(labels)))\n",
        "    plt.xlabel(\"Predicted\")\n",
        "    plt.ylabel(\"True\")\n",
        "    plt.title(f\"Confusion matrix: {title_suffix or model_name}\")\n",
        "    plt.show()\n",
        "\n",
        "    return predictions\n"
      ],
      "metadata": {
        "id": "4fkd6byF93ZK"
      },
      "execution_count": 18,
      "outputs": []
    },
    {
      "cell_type": "code",
      "source": [
        "del texts\n",
        "del labels"
      ],
      "metadata": {
        "id": "S3QpwYYobCz8"
      },
      "execution_count": 31,
      "outputs": []
    },
    {
      "cell_type": "code",
      "source": [
        "texts = df_combined[\"text\"].tolist()\n",
        "labels = df_combined[\"label\"].tolist()\n"
      ],
      "metadata": {
        "id": "eIzxZQ46G5NX"
      },
      "execution_count": 32,
      "outputs": []
    },
    {
      "cell_type": "code",
      "source": [
        "from transformers import pipeline\n",
        "from sklearn.metrics import accuracy_score, classification_report, confusion_matrix\n",
        "import seaborn as sns\n",
        "import matplotlib.pyplot as plt\n",
        "\n",
        "def evaluate_zero_shot_model(model_name, texts, labels, candidate_labels=[\"formal\", \"informal\"], title_suffix=\"\"):\n",
        "    clf = pipeline(\"zero-shot-classification\", model=model_name)\n",
        "\n",
        "    predictions = []\n",
        "    for text in texts:\n",
        "        try:\n",
        "            result = clf(text, candidate_labels=candidate_labels)\n",
        "            predicted_label = result[\"labels\"][0].lower()\n",
        "            predictions.append(predicted_label)\n",
        "        except Exception as e:\n",
        "            print(f\"Failed on: {text[:30]}... Error: {e}\")\n",
        "            predictions.append(\"error\")\n",
        "\n",
        "    print(f\"\\n Zero-shot evaluation: {model_name}\")\n",
        "    print(\" Accuracy:\", accuracy_score(labels, predictions))\n",
        "    print(\"\\n Classification report:\\n\", classification_report(labels, predictions))\n",
        "\n",
        "    cm = confusion_matrix(labels, predictions, labels=sorted(set(labels)))\n",
        "    sns.heatmap(cm, annot=True, fmt=\"d\", cmap=\"Greens\",\n",
        "                xticklabels=sorted(set(labels)), yticklabels=sorted(set(labels)))\n",
        "    plt.xlabel(\"Predicted\")\n",
        "    plt.ylabel(\"True\")\n",
        "    plt.title(f\"Confusion matrix: {title_suffix or model_name}\")\n",
        "    plt.show()\n",
        "\n",
        "    return predictions\n",
        "\n",
        "\n",
        "model_name = \"MoritzLaurer/deberta-v3-base-zeroshot-v2.0\"\n",
        "\n",
        "preds_zero_shot = evaluate_zero_shot_model(model_name, texts, labels)\n"
      ],
      "metadata": {
        "colab": {
          "base_uri": "https://localhost:8080/",
          "height": 732
        },
        "id": "IWDkp6ZTBA8_",
        "outputId": "5c9c8ba3-edc6-4c32-ab0a-a8c7771d934b"
      },
      "execution_count": 34,
      "outputs": [
        {
          "output_type": "stream",
          "name": "stderr",
          "text": [
            "Device set to use cpu\n"
          ]
        },
        {
          "output_type": "stream",
          "name": "stdout",
          "text": [
            "\n",
            "📊 Zero-shot evaluation: MoritzLaurer/deberta-v3-base-zeroshot-v2.0\n",
            "✅ Accuracy: 0.74375\n",
            "\n",
            "📋 Classification Report:\n",
            "               precision    recall  f1-score   support\n",
            "\n",
            "      formal       0.79      0.66      0.72        80\n",
            "    informal       0.71      0.82      0.76        80\n",
            "\n",
            "    accuracy                           0.74       160\n",
            "   macro avg       0.75      0.74      0.74       160\n",
            "weighted avg       0.75      0.74      0.74       160\n",
            "\n"
          ]
        },
        {
          "output_type": "display_data",
          "data": {
            "text/plain": [
              "<Figure size 640x480 with 2 Axes>"
            ],
            "image/png": "[encoded data removed]"
          },
          "metadata": {}
        }
      ]
    }
  ]
}